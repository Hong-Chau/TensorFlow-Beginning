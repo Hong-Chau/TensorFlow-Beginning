{
 "cells": [
  {
   "cell_type": "code",
   "execution_count": 8,
   "metadata": {
    "collapsed": true
   },
   "outputs": [],
   "source": [
    "import tensorflow as tf\n",
    "import math"
   ]
  },
  {
   "cell_type": "code",
   "execution_count": 9,
   "metadata": {},
   "outputs": [],
   "source": [
    "# Creates an inference graph.\n",
    "# Hidden 1\n",
    "images = tf.constant(1.2, tf.float32, shape=[100, 28])\n",
    "with tf.name_scope(\"hidden1\"):\n",
    "  weights = tf.Variable(\n",
    "      tf.truncated_normal([28, 128],\n",
    "                          stddev=1.0 / math.sqrt(float(28))),\n",
    "      name=\"weights\")\n",
    "  biases = tf.Variable(tf.zeros([128]),\n",
    "                       name=\"biases\")\n",
    "  hidden1 = tf.nn.relu(tf.matmul(images, weights) + biases)\n",
    "# Hidden 2\n",
    "with tf.name_scope(\"hidden2\"):\n",
    "  weights = tf.Variable(\n",
    "      tf.truncated_normal([128, 32],\n",
    "                          stddev=1.0 / math.sqrt(float(128))),\n",
    "      name=\"weights\")\n",
    "  biases = tf.Variable(tf.zeros([32]),\n",
    "                       name=\"biases\")\n",
    "  hidden2 = tf.nn.relu(tf.matmul(hidden1, weights) + biases)\n",
    "# Linear\n",
    "with tf.name_scope(\"softmax_linear\"):\n",
    "  weights = tf.Variable(\n",
    "      tf.truncated_normal([32, 10],\n",
    "                          stddev=1.0 / math.sqrt(float(32))),\n",
    "      name=\"weights\")\n",
    "  biases = tf.Variable(tf.zeros([10]),\n",
    "                       name=\"biases\")\n",
    "  logits = tf.matmul(hidden2, weights) + biases\n",
    "  tf.add_to_collection(\"logits\", logits)\n",
    "\n",
    "init_all_op = tf.global_variables_initializer()\n",
    "\n",
    "with tf.Session() as sess:\n",
    "  # Initializes all the variables.\n",
    "  sess.run(init_all_op)\n",
    "  # Runs to logit.\n",
    "  sess.run(logits)\n",
    "  # Creates a saver.\n",
    "  saver0 = tf.train.Saver()\n",
    "  saver0.save(sess, 'my-save-dir/my-model-10000')\n",
    "  # Generates MetaGraphDef.\n",
    "  saver0.export_meta_graph('my-save-dir/my-model-10000.meta')"
   ]
  },
  {
   "cell_type": "markdown",
   "metadata": {},
   "source": []
  }
 ],
 "metadata": {
  "kernelspec": {
   "display_name": "Python 3",
   "language": "python",
   "name": "python3"
  },
  "language_info": {
   "codemirror_mode": {
    "name": "ipython",
    "version": 3
   },
   "file_extension": ".py",
   "mimetype": "text/x-python",
   "name": "python",
   "nbconvert_exporter": "python",
   "pygments_lexer": "ipython3",
   "version": "3.5.2"
  }
 },
 "nbformat": 4,
 "nbformat_minor": 2
}
