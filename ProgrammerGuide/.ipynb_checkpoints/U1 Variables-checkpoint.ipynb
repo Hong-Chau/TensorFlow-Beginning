{
 "cells": [
  {
   "cell_type": "code",
   "execution_count": 1,
   "metadata": {
    "collapsed": true
   },
   "outputs": [],
   "source": [
    "import tensorflow as tf"
   ]
  },
  {
   "cell_type": "code",
   "execution_count": null,
   "metadata": {
    "collapsed": true
   },
   "outputs": [],
   "source": [
    "# Create two variables\n",
    "#with tf.device(\"/cpu:0\"):\n",
    "weights = tf.Variable(tf.random_normal([784,200], stddev=0.35), name='weights')\n",
    "biases = tf.Variable(tf.zeros([200]), name='biases')\n",
    "\n",
    "# Initialization from another Variable\n",
    "w2 = tf.Variable(weights.initialized_value(), name='w2')\n",
    "w_twice = tf.Variable(weights.initialized_value() * 2.0, name='w_twice')"
   ]
  },
  {
   "cell_type": "code",
   "execution_count": null,
   "metadata": {
    "collapsed": true
   },
   "outputs": [],
   "source": [
    "# Add an op to initialize the variables\n",
    "init_op = tf.global_variables_initializer()\n",
    "sess = tf.Session()\n",
    "sess.run(init_op)"
   ]
  },
  {
   "cell_type": "code",
   "execution_count": null,
   "metadata": {
    "collapsed": true
   },
   "outputs": [],
   "source": [
    "print(sess.run(weights))"
   ]
  },
  {
   "cell_type": "code",
   "execution_count": null,
   "metadata": {
    "collapsed": true
   },
   "outputs": [],
   "source": [
    "# Custom initialization\n",
    "w_triple = tf.Variable(weights.initialized_value() * 3.0, name='w_triple')\n",
    "\n",
    "init_w_triple = tf.variables_initializer([w_triple, w_twice, w2])\n",
    "sess.run(init_w_triple)\n",
    "print(sess.run(w_triple))"
   ]
  },
  {
   "cell_type": "code",
   "execution_count": 8,
   "metadata": {},
   "outputs": [
    {
     "name": "stdout",
     "output_type": "stream",
     "text": [
      "[[-0.03906873  0.48366442 -0.26120865 ...,  0.33463648 -0.09874819\n",
      "   0.32058242]\n",
      " [ 0.09426372 -0.36285836  0.01225673 ..., -0.34443343 -0.33849046\n",
      "  -0.55810708]\n",
      " [ 0.02643603  0.37173736 -0.09787232 ...,  0.39930278  0.29185739\n",
      "   0.14684072]\n",
      " ..., \n",
      " [ 0.41286689 -0.5578987  -0.0723147  ...,  0.41940874 -0.57268804\n",
      "  -0.00664184]\n",
      " [ 0.04811928  0.16121887  0.24840803 ...,  0.34196925  0.27965117\n",
      "   0.04861923]\n",
      " [ 0.57129383  0.31817251 -0.07915591 ...,  0.18899378 -0.02745134\n",
      "   0.26324007]]\n",
      "Model saved in file: /tmp/model.ckpt\n",
      "[[-0.03906873  0.48366442 -0.26120865 ...,  0.33463648 -0.09874819\n",
      "   0.32058242]\n",
      " [ 0.09426372 -0.36285836  0.01225673 ..., -0.34443343 -0.33849046\n",
      "  -0.55810708]\n",
      " [ 0.02643603  0.37173736 -0.09787232 ...,  0.39930278  0.29185739\n",
      "   0.14684072]\n",
      " ..., \n",
      " [ 0.41286689 -0.5578987  -0.0723147  ...,  0.41940874 -0.57268804\n",
      "  -0.00664184]\n",
      " [ 0.04811928  0.16121887  0.24840803 ...,  0.34196925  0.27965117\n",
      "   0.04861923]\n",
      " [ 0.57129383  0.31817251 -0.07915591 ...,  0.18899378 -0.02745134\n",
      "   0.26324007]]\n"
     ]
    }
   ],
   "source": [
    "# Create some variables.\n",
    "v1 = tf.Variable(tf.random_normal([784, 200], stddev=0.35), name='v1')\n",
    "v2 = tf.Variable(tf.random_normal([784, 200], stddev=0.35), name='v2')\n",
    "...\n",
    "# Add an op to initialize the variables.\n",
    "init_op = tf.global_variables_initializer()\n",
    "\n",
    "# Add ops to save and restore all the variables.\n",
    "saver = tf.train.Saver()\n",
    "\n",
    "# Later, launch the model, initialize the variables, do some work, save the\n",
    "# variables to disk.\n",
    "with tf.Session() as sess:\n",
    "  sess.run(init_op)\n",
    "  # Save the variables to disk.\n",
    "  print(sess.run(v1))\n",
    "  save_path = saver.save(sess, \"/tmp/model.ckpt\")\n",
    "  print(\"Model saved in file: %s\" % save_path)\n",
    "  print(sess.run(v1))"
   ]
  },
  {
   "cell_type": "code",
   "execution_count": 9,
   "metadata": {},
   "outputs": [
    {
     "name": "stdout",
     "output_type": "stream",
     "text": [
      "INFO:tensorflow:Restoring parameters from /tmp/model.ckpt\n",
      "Model restored.\n",
      "[[-0.39008966  0.17145389 -0.01595015 ...,  0.39210999 -0.54972112\n",
      "   0.19135076]\n",
      " [-0.84547353 -0.21370806  0.24121584 ..., -0.10478409 -0.20275111\n",
      "   0.40016094]\n",
      " [ 0.33733112 -0.35410962 -0.25990355 ..., -0.48807514 -0.04130333\n",
      "   0.50711584]\n",
      " ..., \n",
      " [-0.2484892   0.15138142 -0.5323264  ...,  0.39661559  0.28420526\n",
      "  -0.42896789]\n",
      " [ 0.3667894   0.06343064  0.21485023 ..., -0.35559925  0.27368501\n",
      "  -0.33636504]\n",
      " [-0.51975602 -0.11459632  0.62542802 ...,  0.02090103 -0.02773633\n",
      "  -0.16084026]]\n",
      "Model restored.\n",
      "[[-0.39008966  0.17145389 -0.01595015 ...,  0.39210999 -0.54972112\n",
      "   0.19135076]\n",
      " [-0.84547353 -0.21370806  0.24121584 ..., -0.10478409 -0.20275111\n",
      "   0.40016094]\n",
      " [ 0.33733112 -0.35410962 -0.25990355 ..., -0.48807514 -0.04130333\n",
      "   0.50711584]\n",
      " ..., \n",
      " [-0.2484892   0.15138142 -0.5323264  ...,  0.39661559  0.28420526\n",
      "  -0.42896789]\n",
      " [ 0.3667894   0.06343064  0.21485023 ..., -0.35559925  0.27368501\n",
      "  -0.33636504]\n",
      " [-0.51975602 -0.11459632  0.62542802 ...,  0.02090103 -0.02773633\n",
      "  -0.16084026]]\n",
      "Model restored.\n",
      "[[ -1.87657729e-01  -1.38586298e-01   2.02563718e-01 ...,  -4.04403389e-01\n",
      "    1.82616696e-01  -1.89211875e-01]\n",
      " [ -1.92394212e-01   2.14523122e-01   3.48514169e-01 ...,   3.63331825e-01\n",
      "   -6.06328212e-02  -6.60996437e-01]\n",
      " [  9.53033275e-04   7.40319714e-02   2.39061981e-01 ...,   3.19031745e-01\n",
      "    2.24610835e-01   2.69629925e-01]\n",
      " ..., \n",
      " [ -3.75855923e-01   1.61858633e-01   4.80531007e-01 ...,  -1.34369850e-01\n",
      "   -5.67372441e-01   7.01168418e-01]\n",
      " [  3.94407183e-01   3.12561005e-01   1.33530629e+00 ...,  -1.47958472e-02\n",
      "   -1.40517637e-01  -8.17793012e-02]\n",
      " [ -2.16969892e-01   8.36338177e-02  -1.26643226e-01 ...,   2.73277014e-01\n",
      "   -4.54886019e-01  -8.92076921e-03]]\n"
     ]
    }
   ],
   "source": [
    "tf.reset_default_graph()\n",
    "# Create some variables.\n",
    "v1 = tf.Variable(tf.random_normal([784, 200], stddev=0.35), name='v1')\n",
    "v2 = tf.Variable(tf.random_normal([784, 200], stddev=0.35), name='v2')\n",
    "...\n",
    "# Add ops to save and restore all the variables.\n",
    "saver = tf.train.Saver()\n",
    "\n",
    "# Later, launch the model, use the saver to restore variables from disk, and\n",
    "# do some work with the model.\n",
    "with tf.Session() as sess:\n",
    "  # Restore variables from disk.\n",
    "  saver.restore(sess, \"/tmp/model.ckpt\")\n",
    "  print(\"Model restored.\")\n",
    "  print(sess.run(v1))\n",
    "  print(\"Model restored.\")\n",
    "  print(sess.run(v1))\n",
    "  print(\"Model restored.\")\n",
    "  print(sess.run(v2))"
   ]
  },
  {
   "cell_type": "code",
   "execution_count": null,
   "metadata": {
    "collapsed": true
   },
   "outputs": [],
   "source": []
  },
  {
   "cell_type": "code",
   "execution_count": null,
   "metadata": {
    "collapsed": true
   },
   "outputs": [],
   "source": []
  }
 ],
 "metadata": {
  "kernelspec": {
   "display_name": "Python 3",
   "language": "python",
   "name": "python3"
  },
  "language_info": {
   "codemirror_mode": {
    "name": "ipython",
    "version": 3
   },
   "file_extension": ".py",
   "mimetype": "text/x-python",
   "name": "python",
   "nbconvert_exporter": "python",
   "pygments_lexer": "ipython3",
   "version": "3.5.2"
  }
 },
 "nbformat": 4,
 "nbformat_minor": 2
}
