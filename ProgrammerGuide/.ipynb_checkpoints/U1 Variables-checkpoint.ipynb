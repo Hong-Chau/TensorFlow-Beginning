{
 "cells": [
  {
   "cell_type": "code",
   "execution_count": 1,
   "metadata": {
    "collapsed": true
   },
   "outputs": [],
   "source": [
    "import tensorflow as tf"
   ]
  },
  {
   "cell_type": "code",
   "execution_count": 2,
   "metadata": {},
   "outputs": [],
   "source": [
    "# Create two variables\n",
    "#with tf.device(\"/cpu:0\"):\n",
    "weights = tf.Variable(tf.random_normal([784,200], stddev=0.35), name='weights')\n",
    "biases = tf.Variable(tf.zeros([200]), name='biases')\n",
    "\n",
    "# Initialization from another Variable\n",
    "w2 = tf.Variable(weights.initialized_value(), name='w2')\n",
    "w_twice = tf.Variable(weights.initialized_value() * 2.0, name='w_twice')"
   ]
  },
  {
   "cell_type": "code",
   "execution_count": 3,
   "metadata": {},
   "outputs": [],
   "source": [
    "# Add an op to initialize the variables\n",
    "init_op = tf.global_variables_initializer()\n",
    "sess = tf.Session()\n",
    "sess.run(init_op)"
   ]
  },
  {
   "cell_type": "code",
   "execution_count": 4,
   "metadata": {},
   "outputs": [
    {
     "name": "stdout",
     "output_type": "stream",
     "text": [
      "[[ 0.46129209 -0.07727406  0.16358234 ...,  0.17486219  0.71245712\n",
      "  -0.21429005]\n",
      " [ 0.31999049  0.29356188 -0.17262228 ..., -0.58210242 -0.20992686\n",
      "   0.20866512]\n",
      " [ 0.02168662 -0.46505773 -0.17575055 ..., -0.15579334 -0.23083161\n",
      "   0.00931569]\n",
      " ..., \n",
      " [ 0.01848261 -0.40687931 -0.13146779 ..., -0.49039415  0.21382901\n",
      "   0.37463444]\n",
      " [-0.38617748  0.27302799  0.27756104 ...,  0.35172305  0.31397751\n",
      "   0.18886375]\n",
      " [-0.34915289  0.17038219  0.09564369 ..., -0.10981907  0.56714416\n",
      "  -0.18083036]]\n"
     ]
    }
   ],
   "source": [
    "print(sess.run(weights))"
   ]
  },
  {
   "cell_type": "code",
   "execution_count": 5,
   "metadata": {},
   "outputs": [
    {
     "name": "stdout",
     "output_type": "stream",
     "text": [
      "[[ 1.38387632 -0.23182219  0.49074703 ...,  0.52458656  2.1373713\n",
      "  -0.64287019]\n",
      " [ 0.95997143  0.88068563 -0.51786685 ..., -1.74630725 -0.62978059\n",
      "   0.62599534]\n",
      " [ 0.06505987 -1.39517319 -0.52725166 ..., -0.46738002 -0.69249481\n",
      "   0.02794707]\n",
      " ..., \n",
      " [ 0.05544784 -1.22063792 -0.39440337 ..., -1.47118247  0.641487\n",
      "   1.12390327]\n",
      " [-1.15853238  0.81908393  0.83268309 ...,  1.05516911  0.94193256\n",
      "   0.56659126]\n",
      " [-1.04745865  0.51114655  0.28693107 ..., -0.32945722  1.70143247\n",
      "  -0.54249108]]\n"
     ]
    }
   ],
   "source": [
    "# Custom initialization\n",
    "w_triple = tf.Variable(weights.initialized_value() * 3.0, name='w_triple')\n",
    "\n",
    "init_w_triple = tf.variables_initializer([w_triple, w_twice, w2])\n",
    "sess.run(init_w_triple)\n",
    "print(sess.run(w_triple))"
   ]
  },
  {
   "cell_type": "code",
   "execution_count": 44,
   "metadata": {},
   "outputs": [
    {
     "name": "stdout",
     "output_type": "stream",
     "text": [
      "[[ 0.16343676 -0.23560014 -0.44021189 ..., -0.06979331  0.7104274\n",
      "  -0.00931481]\n",
      " [ 0.27731556 -0.15198123  0.02898518 ..., -0.1504458  -0.0193348\n",
      "   0.17090906]\n",
      " [ 0.26059139 -0.43223363  0.41031942 ...,  0.04730509  0.40613914\n",
      "  -0.67836481]\n",
      " ..., \n",
      " [ 0.00892477  0.15040131  0.05549763 ...,  0.22648285  0.27842483\n",
      "  -0.44020507]\n",
      " [ 0.40728787 -0.49108484 -0.38086531 ..., -0.40160438  0.06244156\n",
      "  -0.38129672]\n",
      " [-0.22200717  0.7659995   0.13453597 ..., -0.03559451 -0.36243084\n",
      "  -0.07470807]]\n",
      "Model saved in file: /tmp/model.ckpt\n",
      "[[ 0.16343676 -0.23560014 -0.44021189 ..., -0.06979331  0.7104274\n",
      "  -0.00931481]\n",
      " [ 0.27731556 -0.15198123  0.02898518 ..., -0.1504458  -0.0193348\n",
      "   0.17090906]\n",
      " [ 0.26059139 -0.43223363  0.41031942 ...,  0.04730509  0.40613914\n",
      "  -0.67836481]\n",
      " ..., \n",
      " [ 0.00892477  0.15040131  0.05549763 ...,  0.22648285  0.27842483\n",
      "  -0.44020507]\n",
      " [ 0.40728787 -0.49108484 -0.38086531 ..., -0.40160438  0.06244156\n",
      "  -0.38129672]\n",
      " [-0.22200717  0.7659995   0.13453597 ..., -0.03559451 -0.36243084\n",
      "  -0.07470807]]\n"
     ]
    }
   ],
   "source": [
    "# Create some variables.\n",
    "v1 = tf.Variable(tf.random_normal([784, 200], stddev=0.35), name='v1')\n",
    "v2 = tf.Variable(tf.random_normal([784, 200], stddev=0.35), name='v2')\n",
    "...\n",
    "# Add an op to initialize the variables.\n",
    "init_op = tf.global_variables_initializer()\n",
    "\n",
    "# Add ops to save and restore all the variables.\n",
    "saver = tf.train.Saver()\n",
    "\n",
    "# Later, launch the model, initialize the variables, do some work, save the\n",
    "# variables to disk.\n",
    "with tf.Session() as sess:\n",
    "  sess.run(init_op)\n",
    "  # Save the variables to disk.\n",
    "  print(sess.run(v1))\n",
    "  save_path = saver.save(sess, \"/tmp/model.ckpt\")\n",
    "  print(\"Model saved in file: %s\" % save_path)\n",
    "  print(sess.run(v1))"
   ]
  },
  {
   "cell_type": "code",
   "execution_count": 45,
   "metadata": {},
   "outputs": [
    {
     "name": "stdout",
     "output_type": "stream",
     "text": [
      "INFO:tensorflow:Restoring parameters from /tmp/model.ckpt\n",
      "Model restored.\n",
      "[[-0.11974297  0.05979411  0.02522567 ..., -0.00735647  0.09589346\n",
      "   0.39894947]\n",
      " [-0.06359986  0.08111282  0.31647617 ...,  0.0454776  -0.62410879\n",
      "  -0.04729226]\n",
      " [ 0.01999294  0.17857528  0.89334977 ..., -0.8491596  -0.10852983\n",
      "  -0.87439394]\n",
      " ..., \n",
      " [-0.30105534 -0.57092553  0.0028465  ...,  0.28468868 -0.75699162\n",
      "  -0.16766928]\n",
      " [-0.49917054 -0.1797604   0.41992241 ..., -0.16305275  0.27139348\n",
      "  -0.08922023]\n",
      " [-0.3905139  -0.3026827  -0.64465874 ..., -0.14022431 -0.41665459\n",
      "  -0.31884444]]\n",
      "Model restored.\n",
      "[[-0.11974297  0.05979411  0.02522567 ..., -0.00735647  0.09589346\n",
      "   0.39894947]\n",
      " [-0.06359986  0.08111282  0.31647617 ...,  0.0454776  -0.62410879\n",
      "  -0.04729226]\n",
      " [ 0.01999294  0.17857528  0.89334977 ..., -0.8491596  -0.10852983\n",
      "  -0.87439394]\n",
      " ..., \n",
      " [-0.30105534 -0.57092553  0.0028465  ...,  0.28468868 -0.75699162\n",
      "  -0.16766928]\n",
      " [-0.49917054 -0.1797604   0.41992241 ..., -0.16305275  0.27139348\n",
      "  -0.08922023]\n",
      " [-0.3905139  -0.3026827  -0.64465874 ..., -0.14022431 -0.41665459\n",
      "  -0.31884444]]\n",
      "Model restored.\n",
      "[[-0.11974297  0.05979411  0.02522567 ..., -0.00735647  0.09589346\n",
      "   0.39894947]\n",
      " [-0.06359986  0.08111282  0.31647617 ...,  0.0454776  -0.62410879\n",
      "  -0.04729226]\n",
      " [ 0.01999294  0.17857528  0.89334977 ..., -0.8491596  -0.10852983\n",
      "  -0.87439394]\n",
      " ..., \n",
      " [-0.30105534 -0.57092553  0.0028465  ...,  0.28468868 -0.75699162\n",
      "  -0.16766928]\n",
      " [-0.49917054 -0.1797604   0.41992241 ..., -0.16305275  0.27139348\n",
      "  -0.08922023]\n",
      " [-0.3905139  -0.3026827  -0.64465874 ..., -0.14022431 -0.41665459\n",
      "  -0.31884444]]\n"
     ]
    }
   ],
   "source": [
    "tf.reset_default_graph()\n",
    "# Create some variables.\n",
    "#v1 = tf.Variable(tf.random_normal([784, 200], stddev=0.35), name='v1')\n",
    "#v2 = tf.Variable(tf.random_normal([784, 200], stddev=0.35), name='v2')\n",
    "...\n",
    "# Add ops to save and restore all the variables.\n",
    "saver = tf.train.Saver()\n",
    "\n",
    "# Later, launch the model, use the saver to restore variables from disk, and\n",
    "# do some work with the model.\n",
    "with tf.Session() as sess:\n",
    "  # Restore variables from disk.\n",
    "  saver.restore(sess, \"/tmp/model.ckpt\")\n",
    "  print(\"Model restored.\")\n",
    "  print(sess.run(v1))\n",
    "  print(\"Model restored.\")\n",
    "  print(sess.run(v1))\n",
    "  print(\"Model restored.\")\n",
    "  print(sess.run(v1))"
   ]
  },
  {
   "cell_type": "code",
   "execution_count": 39,
   "metadata": {},
   "outputs": [
    {
     "name": "stdout",
     "output_type": "stream",
     "text": [
      "<bound method Variable.read_value of <tf.Variable 'v1:0' shape=(784, 200) dtype=float32_ref>>\n"
     ]
    }
   ],
   "source": [
    "print(v1.read_value)"
   ]
  },
  {
   "cell_type": "code",
   "execution_count": null,
   "metadata": {
    "collapsed": true
   },
   "outputs": [],
   "source": []
  }
 ],
 "metadata": {
  "kernelspec": {
   "display_name": "Python 3",
   "language": "python",
   "name": "python3"
  },
  "language_info": {
   "codemirror_mode": {
    "name": "ipython",
    "version": 3
   },
   "file_extension": ".py",
   "mimetype": "text/x-python",
   "name": "python",
   "nbconvert_exporter": "python",
   "pygments_lexer": "ipython3",
   "version": "3.5.2"
  }
 },
 "nbformat": 4,
 "nbformat_minor": 2
}
