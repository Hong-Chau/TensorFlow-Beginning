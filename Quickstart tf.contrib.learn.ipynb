{
 "cells": [
  {
   "cell_type": "code",
   "execution_count": 14,
   "metadata": {},
   "outputs": [
    {
     "data": {
      "text/plain": [
       "sys.version_info(major=3, minor=5, micro=2, releaselevel='final', serial=0)"
      ]
     },
     "execution_count": 14,
     "metadata": {},
     "output_type": "execute_result"
    }
   ],
   "source": [
    "import sys\n",
    "sys.version_info"
   ]
  },
  {
   "cell_type": "code",
   "execution_count": 15,
   "metadata": {
    "collapsed": true
   },
   "outputs": [],
   "source": [
    "from __future__ import absolute_import\n",
    "from __future__ import division\n",
    "from __future__ import print_function\n",
    "\n",
    "import os\n",
    "import urllib.request\n",
    "\n",
    "import numpy as np\n",
    "import tensorflow as tf\n"
   ]
  },
  {
   "cell_type": "code",
   "execution_count": 16,
   "metadata": {
    "collapsed": true
   },
   "outputs": [],
   "source": [
    "# Data sets\n",
    "IRIS_TRAINING = \"iris_training.csv\"\n",
    "IRIS_TRAINING_URL = \"http://download.tensorflow.org/data/iris_training.csv\"\n",
    "\n",
    "IRIS_TEST = \"iris_test.csv\"\n",
    "IRIS_TEST_URL = \"http://download.tensorflow.org/data/iris_test.csv\""
   ]
  },
  {
   "cell_type": "code",
   "execution_count": 17,
   "metadata": {
    "collapsed": true
   },
   "outputs": [],
   "source": [
    "  # If the training and test sets aren't stored locally, download them.\n",
    "if not os.path.exists(IRIS_TRAINING):\n",
    "    raw = urllib.request.urlopen(IRIS_TRAINING_URL).read()\n",
    "    # print(raw)\n",
    "    print(raw.decode('utf-8'))\n",
    "    with open(IRIS_TRAINING, \"w\") as f:\n",
    "        f.write(raw.decode('utf-8'))\n",
    "\n",
    "if not os.path.exists(IRIS_TEST):\n",
    "    raw = urllib.request.urlopen(IRIS_TEST_URL).read()\n",
    "    with open(IRIS_TEST, \"w\") as f:\n",
    "        f.write(raw.decode('utf-8'))\n"
   ]
  },
  {
   "cell_type": "code",
   "execution_count": 18,
   "metadata": {
    "collapsed": true
   },
   "outputs": [],
   "source": [
    "# Load datasets.\n",
    "training_set = tf.contrib.learn.datasets.base.load_csv_with_header(\n",
    "      filename=IRIS_TRAINING,\n",
    "      target_dtype=np.int,\n",
    "      features_dtype=np.float32)\n",
    "test_set = tf.contrib.learn.datasets.base.load_csv_with_header(\n",
    "      filename=IRIS_TEST,\n",
    "      target_dtype=np.int,\n",
    "      features_dtype=np.float32)"
   ]
  },
  {
   "cell_type": "code",
   "execution_count": 19,
   "metadata": {
    "collapsed": true
   },
   "outputs": [],
   "source": [
    "# Specify that all features have real-value data\n",
    "feature_columns = [tf.contrib.layers.real_valued_column(\"\", dimension=4)]"
   ]
  },
  {
   "cell_type": "code",
   "execution_count": 20,
   "metadata": {},
   "outputs": [
    {
     "name": "stdout",
     "output_type": "stream",
     "text": [
      "INFO:tensorflow:Using default config.\n",
      "INFO:tensorflow:Using config: {'_master': '', '_tf_config': gpu_options {\n",
      "  per_process_gpu_memory_fraction: 1.0\n",
      "}\n",
      ", '_num_ps_replicas': 0, '_save_checkpoints_steps': None, '_keep_checkpoint_every_n_hours': 10000, '_save_checkpoints_secs': 600, '_tf_random_seed': None, '_save_summary_steps': 100, '_num_worker_replicas': 0, '_task_id': 0, '_task_type': None, '_session_config': None, '_cluster_spec': <tensorflow.python.training.server_lib.ClusterSpec object at 0x7f59d04dbe48>, '_keep_checkpoint_max': 5, '_model_dir': '/tmp/iris_model', '_environment': 'local', '_evaluation_master': '', '_is_chief': True}\n"
     ]
    }
   ],
   "source": [
    "# Build 3 layer DNN with 10, 20, 10 units respectively.\n",
    "classifier = tf.contrib.learn.DNNClassifier(feature_columns=feature_columns,\n",
    "                                              hidden_units=[10, 20, 10],\n",
    "                                              n_classes=3,\n",
    "                                              model_dir=\"/tmp/iris_model\")"
   ]
  },
  {
   "cell_type": "code",
   "execution_count": 21,
   "metadata": {
    "collapsed": true
   },
   "outputs": [],
   "source": [
    "# Define the training inputs\n",
    "def get_train_inputs():\n",
    "    x = tf.constant(training_set.data)\n",
    "    y = tf.constant(training_set.target)\n",
    "    return x, y"
   ]
  },
  {
   "cell_type": "code",
   "execution_count": 22,
   "metadata": {},
   "outputs": [
    {
     "name": "stdout",
     "output_type": "stream",
     "text": [
      "WARNING:tensorflow:From /home/chaunh2/.local/lib/python3.5/site-packages/tensorflow/contrib/learn/python/learn/estimators/head.py:625: scalar_summary (from tensorflow.python.ops.logging_ops) is deprecated and will be removed after 2016-11-30.\n",
      "Instructions for updating:\n",
      "Please switch to tf.summary.scalar. Note that tf.summary.scalar uses the node name instead of the tag. This means that TensorFlow will automatically de-duplicate summary names based on the scope they are created in. Also, passing a tensor or list of tags to a scalar summary op is no longer supported.\n",
      "INFO:tensorflow:Create CheckpointSaverHook.\n",
      "INFO:tensorflow:Restoring parameters from /tmp/iris_model/model.ckpt-12000\n",
      "INFO:tensorflow:Saving checkpoints for 12001 into /tmp/iris_model/model.ckpt.\n",
      "INFO:tensorflow:step = 12001, loss = 0.021609\n",
      "INFO:tensorflow:global_step/sec: 974.472\n",
      "INFO:tensorflow:step = 12101, loss = 0.0215557 (0.103 sec)\n",
      "INFO:tensorflow:global_step/sec: 1047.36\n",
      "INFO:tensorflow:step = 12201, loss = 0.0215029 (0.096 sec)\n",
      "INFO:tensorflow:global_step/sec: 1065.67\n",
      "INFO:tensorflow:step = 12301, loss = 0.0214513 (0.094 sec)\n",
      "INFO:tensorflow:global_step/sec: 1037.94\n",
      "INFO:tensorflow:step = 12401, loss = 0.0214007 (0.096 sec)\n",
      "INFO:tensorflow:global_step/sec: 1067.05\n",
      "INFO:tensorflow:step = 12501, loss = 0.0213512 (0.094 sec)\n",
      "INFO:tensorflow:global_step/sec: 1055.06\n",
      "INFO:tensorflow:step = 12601, loss = 0.0213027 (0.095 sec)\n",
      "INFO:tensorflow:global_step/sec: 1049.63\n",
      "INFO:tensorflow:step = 12701, loss = 0.0212552 (0.095 sec)\n",
      "INFO:tensorflow:global_step/sec: 1050.89\n",
      "INFO:tensorflow:step = 12801, loss = 0.0212084 (0.095 sec)\n",
      "INFO:tensorflow:global_step/sec: 1053.76\n",
      "INFO:tensorflow:step = 12901, loss = 0.0211625 (0.095 sec)\n",
      "INFO:tensorflow:global_step/sec: 1043.91\n",
      "INFO:tensorflow:step = 13001, loss = 0.0211174 (0.096 sec)\n",
      "INFO:tensorflow:global_step/sec: 1064.6\n",
      "INFO:tensorflow:step = 13101, loss = 0.0210731 (0.094 sec)\n",
      "INFO:tensorflow:global_step/sec: 1067.79\n",
      "INFO:tensorflow:step = 13201, loss = 0.0210295 (0.094 sec)\n",
      "INFO:tensorflow:global_step/sec: 1080.21\n",
      "INFO:tensorflow:step = 13301, loss = 0.0209869 (0.093 sec)\n",
      "INFO:tensorflow:global_step/sec: 1065.8\n",
      "INFO:tensorflow:step = 13401, loss = 0.0209446 (0.094 sec)\n",
      "INFO:tensorflow:global_step/sec: 1058.41\n",
      "INFO:tensorflow:step = 13501, loss = 0.0209034 (0.094 sec)\n",
      "INFO:tensorflow:global_step/sec: 1086.73\n",
      "INFO:tensorflow:step = 13601, loss = 0.0208518 (0.092 sec)\n",
      "INFO:tensorflow:global_step/sec: 1073.21\n",
      "INFO:tensorflow:step = 13701, loss = 0.0208155 (0.093 sec)\n",
      "INFO:tensorflow:global_step/sec: 990.695\n",
      "INFO:tensorflow:step = 13801, loss = 0.0207809 (0.101 sec)\n",
      "INFO:tensorflow:global_step/sec: 1060.1\n",
      "INFO:tensorflow:step = 13901, loss = 0.0207433 (0.094 sec)\n",
      "INFO:tensorflow:Saving checkpoints for 14000 into /tmp/iris_model/model.ckpt.\n",
      "INFO:tensorflow:Loss for final step: 0.0207882.\n"
     ]
    },
    {
     "data": {
      "text/plain": [
       "DNNClassifier(params={'input_layer_min_slice_size': None, 'embedding_lr_multipliers': None, 'optimizer': None, 'head': <tensorflow.contrib.learn.python.learn.estimators.head._MultiClassHead object at 0x7f59d04dbd68>, 'gradient_clip_norm': None, 'activation_fn': <function relu at 0x7f59d62be510>, 'dropout': None, 'feature_columns': (_RealValuedColumn(column_name='', dimension=4, default_value=None, dtype=tf.float32, normalizer=None),), 'hidden_units': [10, 20, 10]})"
      ]
     },
     "execution_count": 22,
     "metadata": {},
     "output_type": "execute_result"
    }
   ],
   "source": [
    "  # Fit model.\n",
    "classifier.fit(input_fn=get_train_inputs, steps=2000)"
   ]
  },
  {
   "cell_type": "code",
   "execution_count": 23,
   "metadata": {
    "collapsed": true
   },
   "outputs": [],
   "source": [
    "# Define the test inputs\n",
    "def get_test_inputs():\n",
    "    x = tf.constant(test_set.data)\n",
    "    y = tf.constant(test_set.target)\n",
    "    return x, y"
   ]
  },
  {
   "cell_type": "code",
   "execution_count": 24,
   "metadata": {},
   "outputs": [
    {
     "name": "stdout",
     "output_type": "stream",
     "text": [
      "WARNING:tensorflow:From /home/chaunh2/.local/lib/python3.5/site-packages/tensorflow/contrib/learn/python/learn/estimators/head.py:625: scalar_summary (from tensorflow.python.ops.logging_ops) is deprecated and will be removed after 2016-11-30.\n",
      "Instructions for updating:\n",
      "Please switch to tf.summary.scalar. Note that tf.summary.scalar uses the node name instead of the tag. This means that TensorFlow will automatically de-duplicate summary names based on the scope they are created in. Also, passing a tensor or list of tags to a scalar summary op is no longer supported.\n",
      "INFO:tensorflow:Starting evaluation at 2017-06-21-14:44:22\n",
      "INFO:tensorflow:Restoring parameters from /tmp/iris_model/model.ckpt-14000\n",
      "INFO:tensorflow:Evaluation [1/1]\n",
      "INFO:tensorflow:Finished evaluation at 2017-06-21-14:44:22\n",
      "INFO:tensorflow:Saving dict for global step 14000: accuracy = 0.966667, global_step = 14000, loss = 0.254299\n",
      "\n",
      "Test Accuracy: 0.966667\n",
      "\n"
     ]
    }
   ],
   "source": [
    "# Evaluate accuracy.\n",
    "accuracy_score = classifier.evaluate(input_fn=get_test_inputs,\n",
    "                                       steps=1)[\"accuracy\"]\n",
    "\n",
    "print(\"\\nTest Accuracy: {0:f}\\n\".format(accuracy_score))"
   ]
  },
  {
   "cell_type": "code",
   "execution_count": 25,
   "metadata": {},
   "outputs": [
    {
     "name": "stdout",
     "output_type": "stream",
     "text": [
      "WARNING:tensorflow:From /home/chaunh2/.local/lib/python3.5/site-packages/tensorflow/python/util/deprecation.py:347: calling DNNClassifier.predict (from tensorflow.contrib.learn.python.learn.estimators.dnn) with outputs=None is deprecated and will be removed after 2017-03-01.\n",
      "Instructions for updating:\n",
      "Please switch to predict_classes, or set `outputs` argument.\n",
      "INFO:tensorflow:Restoring parameters from /tmp/iris_model/model.ckpt-14000\n",
      "New Samples, Class Predictions:    [1, 1]\n",
      "\n"
     ]
    }
   ],
   "source": [
    "# Classify two new flower samples.\n",
    "def new_samples():\n",
    "    return np.array([[6.4, 3.2, 4.5, 1.5],[5.8, 3.1, 5.0, 1.7]], dtype=np.float32)\n",
    "\n",
    "predictions = list(classifier.predict(input_fn=new_samples))\n",
    "\n",
    "print(\"New Samples, Class Predictions:    {}\\n\".format(predictions))"
   ]
  },
  {
   "cell_type": "code",
   "execution_count": null,
   "metadata": {
    "collapsed": true
   },
   "outputs": [],
   "source": []
  },
  {
   "cell_type": "code",
   "execution_count": null,
   "metadata": {
    "collapsed": true
   },
   "outputs": [],
   "source": []
  },
  {
   "cell_type": "code",
   "execution_count": null,
   "metadata": {
    "collapsed": true
   },
   "outputs": [],
   "source": []
  },
  {
   "cell_type": "code",
   "execution_count": null,
   "metadata": {
    "collapsed": true
   },
   "outputs": [],
   "source": []
  },
  {
   "cell_type": "code",
   "execution_count": null,
   "metadata": {
    "collapsed": true
   },
   "outputs": [],
   "source": []
  },
  {
   "cell_type": "code",
   "execution_count": 26,
   "metadata": {
    "collapsed": true
   },
   "outputs": [],
   "source": [
    "from __future__ import absolute_import\n",
    "from __future__ import division\n",
    "from __future__ import print_function\n",
    "\n",
    "import os\n",
    "import urllib.request\n",
    "\n",
    "import tensorflow as tf\n",
    "import numpy as np\n",
    "\n",
    "IRIS_TRAINING = \"iris_training.csv\"\n",
    "IRIS_TRAINING_URL = \"http://download.tensorflow.org/data/iris_training.csv\"\n",
    "\n",
    "IRIS_TEST = \"iris_test.csv\"\n",
    "IRIS_TEST_URL = \"http://download.tensorflow.org/data/iris_test.csv\""
   ]
  },
  {
   "cell_type": "code",
   "execution_count": 27,
   "metadata": {
    "collapsed": true
   },
   "outputs": [],
   "source": [
    "if not os.path.exists(IRIS_TRAINING):\n",
    "  raw = urllib.request.urlopen(IRIS_TRAINING_URL).read()\n",
    "  with open(IRIS_TRAINING,'w') as f:\n",
    "    f.write(raw.decode('utf-8'))\n",
    "\n",
    "if not os.path.exists(IRIS_TEST):\n",
    "  raw = urllib.request.urlopen(IRIS_TEST_URL).read()\n",
    "  with open(IRIS_TEST,'w') as f:\n",
    "    f.write(raw.decode('utf-8'))"
   ]
  },
  {
   "cell_type": "code",
   "execution_count": 28,
   "metadata": {
    "collapsed": true
   },
   "outputs": [],
   "source": [
    "# Load datasets.\n",
    "training_set = tf.contrib.learn.datasets.base.load_csv_with_header(\n",
    "    filename=IRIS_TRAINING,\n",
    "    target_dtype=np.int,\n",
    "    features_dtype=np.float32)\n",
    "test_set = tf.contrib.learn.datasets.base.load_csv_with_header(\n",
    "    filename=IRIS_TEST,\n",
    "    target_dtype=np.int,\n",
    "    features_dtype=np.float32)"
   ]
  },
  {
   "cell_type": "code",
   "execution_count": 29,
   "metadata": {
    "collapsed": true
   },
   "outputs": [],
   "source": [
    "#training_set[0]\n",
    "training_set??"
   ]
  },
  {
   "cell_type": "code",
   "execution_count": 30,
   "metadata": {},
   "outputs": [
    {
     "name": "stdout",
     "output_type": "stream",
     "text": [
      "INFO:tensorflow:Using default config.\n",
      "INFO:tensorflow:Using config: {'_master': '', '_tf_config': gpu_options {\n",
      "  per_process_gpu_memory_fraction: 1.0\n",
      "}\n",
      ", '_num_ps_replicas': 0, '_save_checkpoints_steps': None, '_keep_checkpoint_every_n_hours': 10000, '_save_checkpoints_secs': 600, '_tf_random_seed': None, '_save_summary_steps': 100, '_num_worker_replicas': 0, '_task_id': 0, '_task_type': None, '_session_config': None, '_cluster_spec': <tensorflow.python.training.server_lib.ClusterSpec object at 0x7f59d060a978>, '_keep_checkpoint_max': 5, '_model_dir': '/tmp/iris_model', '_environment': 'local', '_evaluation_master': '', '_is_chief': True}\n"
     ]
    }
   ],
   "source": [
    "# Specify that all features have real-value data\n",
    "feature_columns = [tf.contrib.layers.real_valued_column(\"\", dimension=4)]\n",
    "\n",
    "# Build 3 layer DNN with 10, 20, 10 units respectively.\n",
    "classifier = tf.contrib.learn.DNNClassifier(feature_columns=feature_columns,\n",
    "                                            hidden_units=[10, 20, 10],\n",
    "                                            n_classes=3,\n",
    "                                            model_dir=\"/tmp/iris_model\")"
   ]
  },
  {
   "cell_type": "code",
   "execution_count": 31,
   "metadata": {
    "collapsed": true
   },
   "outputs": [],
   "source": [
    "# Define the training inputs\n",
    "def get_train_inputs():\n",
    "  x = tf.constant(training_set.data)\n",
    "  y = tf.constant(training_set.target)\n",
    "  return x, y"
   ]
  },
  {
   "cell_type": "code",
   "execution_count": 32,
   "metadata": {},
   "outputs": [
    {
     "name": "stdout",
     "output_type": "stream",
     "text": [
      "WARNING:tensorflow:From /home/chaunh2/.local/lib/python3.5/site-packages/tensorflow/contrib/learn/python/learn/estimators/head.py:625: scalar_summary (from tensorflow.python.ops.logging_ops) is deprecated and will be removed after 2016-11-30.\n",
      "Instructions for updating:\n",
      "Please switch to tf.summary.scalar. Note that tf.summary.scalar uses the node name instead of the tag. This means that TensorFlow will automatically de-duplicate summary names based on the scope they are created in. Also, passing a tensor or list of tags to a scalar summary op is no longer supported.\n",
      "INFO:tensorflow:Create CheckpointSaverHook.\n",
      "INFO:tensorflow:Restoring parameters from /tmp/iris_model/model.ckpt-14000\n",
      "INFO:tensorflow:Saving checkpoints for 14001 into /tmp/iris_model/model.ckpt.\n",
      "INFO:tensorflow:step = 14001, loss = 0.0207057\n",
      "INFO:tensorflow:global_step/sec: 997.668\n",
      "INFO:tensorflow:step = 14101, loss = 0.0206682 (0.101 sec)\n",
      "INFO:tensorflow:global_step/sec: 1060.18\n",
      "INFO:tensorflow:step = 14201, loss = 0.0206312 (0.094 sec)\n",
      "INFO:tensorflow:global_step/sec: 1057.45\n",
      "INFO:tensorflow:step = 14301, loss = 0.0205944 (0.095 sec)\n",
      "INFO:tensorflow:global_step/sec: 1018.5\n",
      "INFO:tensorflow:step = 14401, loss = 0.0205584 (0.098 sec)\n",
      "INFO:tensorflow:global_step/sec: 1061.94\n",
      "INFO:tensorflow:step = 14501, loss = 0.0205226 (0.094 sec)\n",
      "INFO:tensorflow:global_step/sec: 995.853\n",
      "INFO:tensorflow:step = 14601, loss = 0.0204873 (0.100 sec)\n",
      "INFO:tensorflow:global_step/sec: 1065.76\n",
      "INFO:tensorflow:step = 14701, loss = 0.0204525 (0.094 sec)\n",
      "INFO:tensorflow:global_step/sec: 1078.01\n",
      "INFO:tensorflow:step = 14801, loss = 0.0204182 (0.093 sec)\n",
      "INFO:tensorflow:global_step/sec: 1064.64\n",
      "INFO:tensorflow:step = 14901, loss = 0.0203841 (0.094 sec)\n",
      "INFO:tensorflow:global_step/sec: 1037.83\n",
      "INFO:tensorflow:step = 15001, loss = 0.0203507 (0.096 sec)\n",
      "INFO:tensorflow:global_step/sec: 1037.84\n",
      "INFO:tensorflow:step = 15101, loss = 0.0203176 (0.096 sec)\n",
      "INFO:tensorflow:global_step/sec: 1061.53\n",
      "INFO:tensorflow:step = 15201, loss = 0.0202851 (0.094 sec)\n",
      "INFO:tensorflow:global_step/sec: 1079.45\n",
      "INFO:tensorflow:step = 15301, loss = 0.0202528 (0.093 sec)\n",
      "INFO:tensorflow:global_step/sec: 1076.86\n",
      "INFO:tensorflow:step = 15401, loss = 0.0202208 (0.093 sec)\n",
      "INFO:tensorflow:global_step/sec: 1062.39\n",
      "INFO:tensorflow:step = 15501, loss = 0.0201891 (0.094 sec)\n",
      "INFO:tensorflow:global_step/sec: 1050.99\n",
      "INFO:tensorflow:step = 15601, loss = 0.0201579 (0.095 sec)\n",
      "INFO:tensorflow:global_step/sec: 1024.48\n",
      "INFO:tensorflow:step = 15701, loss = 0.0201271 (0.098 sec)\n",
      "INFO:tensorflow:global_step/sec: 1062.26\n",
      "INFO:tensorflow:step = 15801, loss = 0.0200967 (0.094 sec)\n",
      "INFO:tensorflow:global_step/sec: 1072.24\n",
      "INFO:tensorflow:step = 15901, loss = 0.0200664 (0.093 sec)\n",
      "INFO:tensorflow:Saving checkpoints for 16000 into /tmp/iris_model/model.ckpt.\n",
      "INFO:tensorflow:Loss for final step: 0.0201233.\n"
     ]
    },
    {
     "data": {
      "text/plain": [
       "DNNClassifier(params={'input_layer_min_slice_size': None, 'embedding_lr_multipliers': None, 'optimizer': None, 'head': <tensorflow.contrib.learn.python.learn.estimators.head._MultiClassHead object at 0x7f59d060ab00>, 'gradient_clip_norm': None, 'activation_fn': <function relu at 0x7f59d62be510>, 'dropout': None, 'feature_columns': (_RealValuedColumn(column_name='', dimension=4, default_value=None, dtype=tf.float32, normalizer=None),), 'hidden_units': [10, 20, 10]})"
      ]
     },
     "execution_count": 32,
     "metadata": {},
     "output_type": "execute_result"
    }
   ],
   "source": [
    "# Fit model.\n",
    "classifier.fit(input_fn=get_train_inputs, steps=2000)"
   ]
  },
  {
   "cell_type": "code",
   "execution_count": 33,
   "metadata": {
    "collapsed": true
   },
   "outputs": [],
   "source": [
    "# Define the test inputs\n",
    "def get_test_inputs():\n",
    "    x = tf.constant(test_set.data)\n",
    "    y = tf.constant(test_set.target)\n",
    "    return x, y\n"
   ]
  },
  {
   "cell_type": "code",
   "execution_count": 34,
   "metadata": {},
   "outputs": [
    {
     "name": "stdout",
     "output_type": "stream",
     "text": [
      "WARNING:tensorflow:From /home/chaunh2/.local/lib/python3.5/site-packages/tensorflow/contrib/learn/python/learn/estimators/head.py:625: scalar_summary (from tensorflow.python.ops.logging_ops) is deprecated and will be removed after 2016-11-30.\n",
      "Instructions for updating:\n",
      "Please switch to tf.summary.scalar. Note that tf.summary.scalar uses the node name instead of the tag. This means that TensorFlow will automatically de-duplicate summary names based on the scope they are created in. Also, passing a tensor or list of tags to a scalar summary op is no longer supported.\n",
      "INFO:tensorflow:Starting evaluation at 2017-06-21-14:45:13\n",
      "INFO:tensorflow:Restoring parameters from /tmp/iris_model/model.ckpt-16000\n",
      "INFO:tensorflow:Evaluation [1/1]\n",
      "INFO:tensorflow:Finished evaluation at 2017-06-21-14:45:13\n",
      "INFO:tensorflow:Saving dict for global step 16000: accuracy = 0.966667, global_step = 16000, loss = 0.278392\n",
      "\n",
      "Test Accuracy: 0.966667\n",
      "\n"
     ]
    }
   ],
   "source": [
    "# Evaluate accuracy.\n",
    "accuracy_score = classifier.evaluate(input_fn=get_test_inputs,\n",
    "                                     steps=1)[\"accuracy\"]\n",
    "\n",
    "print(\"\\nTest Accuracy: {0:f}\\n\".format(accuracy_score))"
   ]
  },
  {
   "cell_type": "code",
   "execution_count": 35,
   "metadata": {},
   "outputs": [
    {
     "name": "stdout",
     "output_type": "stream",
     "text": [
      "WARNING:tensorflow:From /home/chaunh2/.local/lib/python3.5/site-packages/tensorflow/python/util/deprecation.py:347: calling DNNClassifier.predict (from tensorflow.contrib.learn.python.learn.estimators.dnn) with outputs=None is deprecated and will be removed after 2017-03-01.\n",
      "Instructions for updating:\n",
      "Please switch to predict_classes, or set `outputs` argument.\n",
      "INFO:tensorflow:Restoring parameters from /tmp/iris_model/model.ckpt-16000\n",
      "New Samples, Class Predictions:    [1, 1]\n",
      "\n"
     ]
    }
   ],
   "source": [
    "# Classify two new flower samples.\n",
    "def new_samples():\n",
    "  return np.array(\n",
    "    [[6.4, 3.2, 4.5, 1.5],\n",
    "     [5.8, 3.1, 5.0, 1.7]], dtype=np.float32)\n",
    "\n",
    "predictions = list(classifier.predict(input_fn=new_samples))\n",
    "\n",
    "print(\n",
    "    \"New Samples, Class Predictions:    {}\\n\"\n",
    "    .format(predictions))"
   ]
  },
  {
   "cell_type": "code",
   "execution_count": null,
   "metadata": {
    "collapsed": true
   },
   "outputs": [],
   "source": []
  }
 ],
 "metadata": {
  "kernelspec": {
   "display_name": "Python 3",
   "language": "python",
   "name": "python3"
  },
  "language_info": {
   "codemirror_mode": {
    "name": "ipython",
    "version": 3
   },
   "file_extension": ".py",
   "mimetype": "text/x-python",
   "name": "python",
   "nbconvert_exporter": "python",
   "pygments_lexer": "ipython3",
   "version": "3.5.2"
  }
 },
 "nbformat": 4,
 "nbformat_minor": 2
}
