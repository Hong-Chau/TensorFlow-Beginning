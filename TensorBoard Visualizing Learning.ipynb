{
 "cells": [
  {
   "cell_type": "code",
   "execution_count": 1,
   "metadata": {},
   "outputs": [
    {
     "data": {
      "text/plain": [
       "'/home/chaunh2/workspace/Tensorflow/TensorFlow-Beginning'"
      ]
     },
     "execution_count": 1,
     "metadata": {},
     "output_type": "execute_result"
    }
   ],
   "source": [
    "%pwd"
   ]
  },
  {
   "cell_type": "code",
   "execution_count": 2,
   "metadata": {},
   "outputs": [
    {
     "name": "stdout",
     "output_type": "stream",
     "text": [
      "Deep MNIST for Experts.ipynb          Quickstart tf.contrib.learn.ipynb\r\n",
      "iris_test.csv                         README.md\r\n",
      "iris_training.csv                     TensorBoard Embedding Visualization.ipynb\r\n",
      "libsdae-autoencoder-tensorflow.ipynb  TensorBoard Histogram Dashboard.ipynb\r\n",
      "Logging and Monitoring Basics.ipynb   TensorBoard.ipynb\r\n",
      "\u001b[0m\u001b[01;34mMNIST_data\u001b[0m/                           TensorBoard Visualizing Learning.ipynb\r\n",
      "mnist_with_summaries.py\r\n"
     ]
    }
   ],
   "source": [
    "%ls"
   ]
  },
  {
   "cell_type": "code",
   "execution_count": 3,
   "metadata": {},
   "outputs": [
    {
     "name": "stdout",
     "output_type": "stream",
     "text": [
      "Extracting /tmp/tensorflow/mnist/input_data/train-images-idx3-ubyte.gz\n",
      "Extracting /tmp/tensorflow/mnist/input_data/train-labels-idx1-ubyte.gz\n",
      "Extracting /tmp/tensorflow/mnist/input_data/t10k-images-idx3-ubyte.gz\n",
      "Extracting /tmp/tensorflow/mnist/input_data/t10k-labels-idx1-ubyte.gz\n",
      "Accuracy at step 0: 0.1397\n",
      "Accuracy at step 10: 0.7492\n",
      "Accuracy at step 20: 0.8277\n",
      "Accuracy at step 30: 0.8615\n",
      "Accuracy at step 40: 0.8872\n",
      "Accuracy at step 50: 0.8984\n",
      "Accuracy at step 60: 0.9021\n",
      "Accuracy at step 70: 0.9033\n",
      "Accuracy at step 80: 0.9093\n",
      "Accuracy at step 90: 0.9154\n",
      "Adding run metadata for 99\n",
      "Accuracy at step 100: 0.9197\n",
      "Accuracy at step 110: 0.9154\n",
      "Accuracy at step 120: 0.9225\n",
      "Accuracy at step 130: 0.9226\n",
      "Accuracy at step 140: 0.9261\n",
      "Accuracy at step 150: 0.9306\n",
      "Accuracy at step 160: 0.9294\n",
      "Accuracy at step 170: 0.9286\n",
      "Accuracy at step 180: 0.9332\n",
      "Accuracy at step 190: 0.9311\n",
      "Adding run metadata for 199\n",
      "Accuracy at step 200: 0.9337\n",
      "Accuracy at step 210: 0.939\n",
      "Accuracy at step 220: 0.9328\n",
      "Accuracy at step 230: 0.9362\n",
      "Accuracy at step 240: 0.9336\n",
      "Accuracy at step 250: 0.9369\n",
      "Accuracy at step 260: 0.9375\n",
      "Accuracy at step 270: 0.9432\n",
      "Accuracy at step 280: 0.9412\n",
      "Accuracy at step 290: 0.9417\n",
      "Adding run metadata for 299\n",
      "Accuracy at step 300: 0.9417\n",
      "Accuracy at step 310: 0.945\n",
      "Accuracy at step 320: 0.9451\n",
      "Accuracy at step 330: 0.9474\n",
      "Accuracy at step 340: 0.9495\n",
      "Accuracy at step 350: 0.9484\n",
      "Accuracy at step 360: 0.9464\n",
      "Accuracy at step 370: 0.9532\n",
      "Accuracy at step 380: 0.9505\n",
      "Accuracy at step 390: 0.9509\n",
      "Adding run metadata for 399\n",
      "Accuracy at step 400: 0.952\n",
      "Accuracy at step 410: 0.9527\n",
      "Accuracy at step 420: 0.9518\n",
      "Accuracy at step 430: 0.9508\n",
      "Accuracy at step 440: 0.9554\n",
      "Accuracy at step 450: 0.9535\n",
      "Accuracy at step 460: 0.9571\n",
      "Accuracy at step 470: 0.9569\n",
      "Accuracy at step 480: 0.9564\n",
      "Accuracy at step 490: 0.9562\n",
      "Adding run metadata for 499\n",
      "Accuracy at step 500: 0.9559\n",
      "Accuracy at step 510: 0.9559\n",
      "Accuracy at step 520: 0.9582\n",
      "Accuracy at step 530: 0.959\n",
      "Accuracy at step 540: 0.9607\n",
      "Accuracy at step 550: 0.96\n",
      "Accuracy at step 560: 0.9565\n",
      "Accuracy at step 570: 0.9597\n",
      "Accuracy at step 580: 0.9586\n",
      "Accuracy at step 590: 0.9584\n",
      "Adding run metadata for 599\n",
      "Accuracy at step 600: 0.9611\n",
      "Accuracy at step 610: 0.9612\n",
      "Accuracy at step 620: 0.9609\n",
      "Accuracy at step 630: 0.9618\n",
      "Accuracy at step 640: 0.9615\n",
      "Accuracy at step 650: 0.9616\n",
      "Accuracy at step 660: 0.9624\n",
      "Accuracy at step 670: 0.9603\n",
      "Accuracy at step 680: 0.9616\n",
      "Accuracy at step 690: 0.9586\n",
      "Adding run metadata for 699\n",
      "Accuracy at step 700: 0.9605\n",
      "Accuracy at step 710: 0.9613\n",
      "Accuracy at step 720: 0.96\n",
      "Accuracy at step 730: 0.9641\n",
      "Accuracy at step 740: 0.9635\n",
      "Accuracy at step 750: 0.966\n",
      "Accuracy at step 760: 0.9662\n",
      "Accuracy at step 770: 0.9671\n",
      "Accuracy at step 780: 0.966\n",
      "Accuracy at step 790: 0.9658\n",
      "Adding run metadata for 799\n",
      "Accuracy at step 800: 0.967\n",
      "Accuracy at step 810: 0.9653\n",
      "Accuracy at step 820: 0.9669\n",
      "Accuracy at step 830: 0.9666\n",
      "Accuracy at step 840: 0.9655\n",
      "Accuracy at step 850: 0.9649\n",
      "Accuracy at step 860: 0.9666\n",
      "Accuracy at step 870: 0.9649\n",
      "Accuracy at step 880: 0.9654\n",
      "Accuracy at step 890: 0.966\n",
      "Adding run metadata for 899\n",
      "Accuracy at step 900: 0.9654\n",
      "Accuracy at step 910: 0.9655\n",
      "Accuracy at step 920: 0.9623\n",
      "Accuracy at step 930: 0.968\n",
      "Accuracy at step 940: 0.9656\n",
      "Accuracy at step 950: 0.9656\n",
      "Accuracy at step 960: 0.9692\n",
      "Accuracy at step 970: 0.9689\n",
      "Accuracy at step 980: 0.9664\n",
      "Accuracy at step 990: 0.9683\n",
      "Adding run metadata for 999\n"
     ]
    }
   ],
   "source": [
    "import tensorflow as tf\n",
    "%run mnist_with_summaries.py"
   ]
  },
  {
   "cell_type": "code",
   "execution_count": 5,
   "metadata": {
    "collapsed": true
   },
   "outputs": [],
   "source": [
    "#grep -rnw mnist_with_summaries.py -e 'variable_summaries'"
   ]
  },
  {
   "cell_type": "code",
   "execution_count": null,
   "metadata": {
    "collapsed": true
   },
   "outputs": [],
   "source": [
    "#tensorboard --logdir=/tmp/tensorflow/mnist/logs/mnist_with_summaries"
   ]
  }
 ],
 "metadata": {
  "kernelspec": {
   "display_name": "Python 3",
   "language": "python",
   "name": "python3"
  },
  "language_info": {
   "codemirror_mode": {
    "name": "ipython",
    "version": 3
   },
   "file_extension": ".py",
   "mimetype": "text/x-python",
   "name": "python",
   "nbconvert_exporter": "python",
   "pygments_lexer": "ipython3",
   "version": "3.5.2"
  }
 },
 "nbformat": 4,
 "nbformat_minor": 2
}
