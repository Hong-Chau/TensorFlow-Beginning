{
 "cells": [
  {
   "cell_type": "code",
   "execution_count": 1,
   "metadata": {},
   "outputs": [
    {
     "data": {
      "text/plain": [
       "sys.version_info(major=3, minor=5, micro=2, releaselevel='final', serial=0)"
      ]
     },
     "execution_count": 1,
     "metadata": {},
     "output_type": "execute_result"
    }
   ],
   "source": [
    "import sys\n",
    "sys.version_info"
   ]
  },
  {
   "cell_type": "code",
   "execution_count": 2,
   "metadata": {},
   "outputs": [
    {
     "name": "stdout",
     "output_type": "stream",
     "text": [
      "1080\n"
     ]
    }
   ],
   "source": [
    "import socket\n",
    "print(socket.gethostname())"
   ]
  },
  {
   "cell_type": "code",
   "execution_count": null,
   "metadata": {
    "collapsed": true
   },
   "outputs": [],
   "source": []
  },
  {
   "cell_type": "code",
   "execution_count": 19,
   "metadata": {
    "collapsed": true
   },
   "outputs": [],
   "source": [
    "from __future__ import absolute_import\n",
    "from __future__ import division\n",
    "from __future__ import print_function\n",
    "\n",
    "import os\n",
    "import urllib.request\n",
    "\n",
    "import tensorflow as tf\n",
    "import numpy as np\n",
    "tf.logging.set_verbosity(tf.logging.INFO)\n",
    "\n",
    "IRIS_TRAINING = \"iris_training.csv\"\n",
    "IRIS_TRAINING_URL = \"http://download.tensorflow.org/data/iris_training.csv\"\n",
    "\n",
    "IRIS_TEST = \"iris_test.csv\"\n",
    "IRIS_TEST_URL = \"http://download.tensorflow.org/data/iris_test.csv\""
   ]
  },
  {
   "cell_type": "code",
   "execution_count": 4,
   "metadata": {
    "collapsed": true
   },
   "outputs": [],
   "source": [
    "if not os.path.exists(IRIS_TRAINING):\n",
    "  raw = urllib.request.urlopen(IRIS_TRAINING_URL).read()\n",
    "  with open(IRIS_TRAINING,'w') as f:\n",
    "    f.write(raw.decode('utf-8'))\n",
    "\n",
    "if not os.path.exists(IRIS_TEST):\n",
    "  raw = urllib.request.urlopen(IRIS_TEST_URL).read()\n",
    "  with open(IRIS_TEST,'w') as f:\n",
    "    f.write(raw.decode('utf-8'))"
   ]
  },
  {
   "cell_type": "code",
   "execution_count": 5,
   "metadata": {
    "collapsed": true
   },
   "outputs": [],
   "source": [
    "# Load datasets.\n",
    "training_set = tf.contrib.learn.datasets.base.load_csv_with_header(\n",
    "    filename=IRIS_TRAINING,\n",
    "    target_dtype=np.int,\n",
    "    features_dtype=np.float32)\n",
    "test_set = tf.contrib.learn.datasets.base.load_csv_with_header(\n",
    "    filename=IRIS_TEST,\n",
    "    target_dtype=np.int,\n",
    "    features_dtype=np.float32)"
   ]
  },
  {
   "cell_type": "code",
   "execution_count": 6,
   "metadata": {
    "collapsed": true
   },
   "outputs": [],
   "source": [
    "#training_set[0]\n",
    "##training_set??"
   ]
  },
  {
   "cell_type": "code",
   "execution_count": 43,
   "metadata": {},
   "outputs": [
    {
     "name": "stdout",
     "output_type": "stream",
     "text": [
      "WARNING:tensorflow:From /home/chaunh2/.local/lib/python3.5/site-packages/tensorflow/contrib/learn/python/learn/monitors.py:268: BaseMonitor.__init__ (from tensorflow.contrib.learn.python.learn.monitors) is deprecated and will be removed after 2016-12-05.\n",
      "Instructions for updating:\n",
      "Monitors are deprecated. Please use tf.train.SessionRunHook.\n",
      "INFO:tensorflow:Using config: {'_num_worker_replicas': 0, '_task_id': 0, '_save_checkpoints_secs': 1, '_task_type': None, '_evaluation_master': '', '_model_dir': '/tmp/iris_model', '_cluster_spec': <tensorflow.python.training.server_lib.ClusterSpec object at 0x7efca232b0b8>, '_num_ps_replicas': 0, '_tf_config': gpu_options {\n",
      "  per_process_gpu_memory_fraction: 1.0\n",
      "}\n",
      ", '_tf_random_seed': None, '_is_chief': True, '_keep_checkpoint_max': 5, '_master': '', '_session_config': None, '_keep_checkpoint_every_n_hours': 10000, '_environment': 'local', '_save_checkpoints_steps': None, '_save_summary_steps': 100}\n"
     ]
    }
   ],
   "source": [
    "# Specify that all features have real-value data\n",
    "feature_columns = [tf.contrib.layers.real_valued_column(\"\", dimension=4)]\n",
    "\n",
    "validation_metrics = {\n",
    "    \"accuracy\":\n",
    "        tf.contrib.learn.MetricSpec(\n",
    "            metric_fn=tf.contrib.metrics.streaming_accuracy,\n",
    "            prediction_key=tf.contrib.learn.PredictionKey.CLASSES),\n",
    "    \"precision\":\n",
    "        tf.contrib.learn.MetricSpec(\n",
    "            metric_fn=tf.contrib.metrics.streaming_precision,\n",
    "            prediction_key=tf.contrib.learn.PredictionKey.CLASSES),\n",
    "    \"recall\":\n",
    "        tf.contrib.learn.MetricSpec(\n",
    "            metric_fn=tf.contrib.metrics.streaming_recall,\n",
    "            prediction_key=tf.contrib.learn.PredictionKey.CLASSES)\n",
    "}\n",
    "\n",
    "validation_monitor = tf.contrib.learn.monitors.ValidationMonitor(\n",
    "    test_set.data,\n",
    "    test_set.target,\n",
    "    every_n_steps=50,\n",
    "    metrics=validation_metrics,\n",
    "    early_stopping_metric=\"loss\",\n",
    "    early_stopping_metric_minimize=True,\n",
    "    early_stopping_rounds=200)\n",
    "# Build 3 layer DNN with 10, 20, 10 units respectively.\n",
    "classifier = tf.contrib.learn.DNNClassifier(\n",
    "    feature_columns=feature_columns,\n",
    "    hidden_units=[10, 20, 10],\n",
    "    n_classes=3,\n",
    "    model_dir=\"/tmp/iris_model\",\n",
    "    config=tf.contrib.learn.RunConfig(save_checkpoints_secs=1))"
   ]
  },
  {
   "cell_type": "code",
   "execution_count": 44,
   "metadata": {
    "collapsed": true
   },
   "outputs": [],
   "source": [
    "# Define the training inputs\n",
    "def get_train_inputs():\n",
    "  x = tf.constant(training_set.data)\n",
    "  y = tf.constant(training_set.target)\n",
    "  return x, y"
   ]
  },
  {
   "cell_type": "code",
   "execution_count": 45,
   "metadata": {},
   "outputs": [
    {
     "name": "stdout",
     "output_type": "stream",
     "text": [
      "WARNING:tensorflow:From /home/chaunh2/.local/lib/python3.5/site-packages/tensorflow/contrib/learn/python/learn/estimators/head.py:625: scalar_summary (from tensorflow.python.ops.logging_ops) is deprecated and will be removed after 2016-11-30.\n",
      "Instructions for updating:\n",
      "Please switch to tf.summary.scalar. Note that tf.summary.scalar uses the node name instead of the tag. This means that TensorFlow will automatically de-duplicate summary names based on the scope they are created in. Also, passing a tensor or list of tags to a scalar summary op is no longer supported.\n",
      "INFO:tensorflow:Create CheckpointSaverHook.\n",
      "INFO:tensorflow:Saving checkpoints for 1 into /tmp/iris_model/model.ckpt.\n",
      "INFO:tensorflow:step = 1, loss = 1.12063\n",
      "WARNING:tensorflow:From /home/chaunh2/.local/lib/python3.5/site-packages/tensorflow/contrib/learn/python/learn/monitors.py:653: calling BaseEstimator.evaluate (from tensorflow.contrib.learn.python.learn.estimators.estimator) with y is deprecated and will be removed after 2016-12-01.\n",
      "Instructions for updating:\n",
      "Estimator is decoupled from Scikit Learn interface by moving into\n",
      "separate class SKCompat. Arguments x, y and batch_size are only\n",
      "available in the SKCompat class, Estimator will only accept input_fn.\n",
      "Example conversion:\n",
      "  est = Estimator(...) -> est = SKCompat(Estimator(...))\n",
      "WARNING:tensorflow:From /home/chaunh2/.local/lib/python3.5/site-packages/tensorflow/contrib/learn/python/learn/monitors.py:653: calling BaseEstimator.evaluate (from tensorflow.contrib.learn.python.learn.estimators.estimator) with x is deprecated and will be removed after 2016-12-01.\n",
      "Instructions for updating:\n",
      "Estimator is decoupled from Scikit Learn interface by moving into\n",
      "separate class SKCompat. Arguments x, y and batch_size are only\n",
      "available in the SKCompat class, Estimator will only accept input_fn.\n",
      "Example conversion:\n",
      "  est = Estimator(...) -> est = SKCompat(Estimator(...))\n",
      "WARNING:tensorflow:From /home/chaunh2/.local/lib/python3.5/site-packages/tensorflow/contrib/learn/python/learn/estimators/head.py:625: scalar_summary (from tensorflow.python.ops.logging_ops) is deprecated and will be removed after 2016-11-30.\n",
      "Instructions for updating:\n",
      "Please switch to tf.summary.scalar. Note that tf.summary.scalar uses the node name instead of the tag. This means that TensorFlow will automatically de-duplicate summary names based on the scope they are created in. Also, passing a tensor or list of tags to a scalar summary op is no longer supported.\n",
      "INFO:tensorflow:Starting evaluation at 2017-06-23-03:57:04\n",
      "INFO:tensorflow:Restoring parameters from /tmp/iris_model/model.ckpt-1\n",
      "INFO:tensorflow:Finished evaluation at 2017-06-23-03:57:04\n",
      "INFO:tensorflow:Saving dict for global step 1: accuracy = 0.266667, global_step = 1, loss = 1.05968, precision = 0.733333, recall = 1.0\n",
      "INFO:tensorflow:Validation (step 50): global_step = 1, precision = 0.733333, loss = 1.05968, recall = 1.0, accuracy = 0.266667\n",
      "INFO:tensorflow:global_step/sec: 231.113\n",
      "INFO:tensorflow:step = 101, loss = 0.145435 (0.433 sec)\n",
      "INFO:tensorflow:global_step/sec: 982.309\n",
      "INFO:tensorflow:step = 201, loss = 0.0853944 (0.102 sec)\n",
      "INFO:tensorflow:global_step/sec: 918.458\n",
      "INFO:tensorflow:step = 301, loss = 0.0724503 (0.109 sec)\n",
      "INFO:tensorflow:global_step/sec: 912.595\n",
      "INFO:tensorflow:step = 401, loss = 0.0659491 (0.110 sec)\n",
      "INFO:tensorflow:global_step/sec: 923.109\n",
      "INFO:tensorflow:step = 501, loss = 0.0618233 (0.108 sec)\n",
      "INFO:tensorflow:Saving checkpoints for 592 into /tmp/iris_model/model.ckpt.\n",
      "WARNING:tensorflow:From /home/chaunh2/.local/lib/python3.5/site-packages/tensorflow/contrib/learn/python/learn/monitors.py:653: calling BaseEstimator.evaluate (from tensorflow.contrib.learn.python.learn.estimators.estimator) with y is deprecated and will be removed after 2016-12-01.\n",
      "Instructions for updating:\n",
      "Estimator is decoupled from Scikit Learn interface by moving into\n",
      "separate class SKCompat. Arguments x, y and batch_size are only\n",
      "available in the SKCompat class, Estimator will only accept input_fn.\n",
      "Example conversion:\n",
      "  est = Estimator(...) -> est = SKCompat(Estimator(...))\n",
      "WARNING:tensorflow:From /home/chaunh2/.local/lib/python3.5/site-packages/tensorflow/contrib/learn/python/learn/monitors.py:653: calling BaseEstimator.evaluate (from tensorflow.contrib.learn.python.learn.estimators.estimator) with x is deprecated and will be removed after 2016-12-01.\n",
      "Instructions for updating:\n",
      "Estimator is decoupled from Scikit Learn interface by moving into\n",
      "separate class SKCompat. Arguments x, y and batch_size are only\n",
      "available in the SKCompat class, Estimator will only accept input_fn.\n",
      "Example conversion:\n",
      "  est = Estimator(...) -> est = SKCompat(Estimator(...))\n",
      "WARNING:tensorflow:From /home/chaunh2/.local/lib/python3.5/site-packages/tensorflow/contrib/learn/python/learn/estimators/head.py:625: scalar_summary (from tensorflow.python.ops.logging_ops) is deprecated and will be removed after 2016-11-30.\n",
      "Instructions for updating:\n",
      "Please switch to tf.summary.scalar. Note that tf.summary.scalar uses the node name instead of the tag. This means that TensorFlow will automatically de-duplicate summary names based on the scope they are created in. Also, passing a tensor or list of tags to a scalar summary op is no longer supported.\n",
      "INFO:tensorflow:Starting evaluation at 2017-06-23-03:57:05\n",
      "INFO:tensorflow:Restoring parameters from /tmp/iris_model/model.ckpt-592\n",
      "INFO:tensorflow:Finished evaluation at 2017-06-23-03:57:05\n",
      "INFO:tensorflow:Saving dict for global step 592: accuracy = 0.966667, global_step = 592, loss = 0.052062, precision = 1.0, recall = 1.0\n",
      "INFO:tensorflow:Validation (step 600): global_step = 592, precision = 1.0, loss = 0.052062, recall = 1.0, accuracy = 0.966667\n",
      "INFO:tensorflow:global_step/sec: 204.787\n",
      "INFO:tensorflow:step = 601, loss = 0.0587837 (0.488 sec)\n",
      "INFO:tensorflow:global_step/sec: 924.171\n",
      "INFO:tensorflow:step = 701, loss = 0.0563999 (0.108 sec)\n",
      "INFO:tensorflow:global_step/sec: 899.812\n",
      "INFO:tensorflow:step = 801, loss = 0.054492 (0.111 sec)\n",
      "INFO:tensorflow:global_step/sec: 893.93\n",
      "INFO:tensorflow:step = 901, loss = 0.0529018 (0.112 sec)\n",
      "INFO:tensorflow:global_step/sec: 960.646\n",
      "INFO:tensorflow:step = 1001, loss = 0.0515035 (0.104 sec)\n",
      "INFO:tensorflow:global_step/sec: 918.697\n",
      "INFO:tensorflow:step = 1101, loss = 0.0503417 (0.109 sec)\n",
      "INFO:tensorflow:Saving checkpoints for 1164 into /tmp/iris_model/model.ckpt.\n",
      "WARNING:tensorflow:From /home/chaunh2/.local/lib/python3.5/site-packages/tensorflow/contrib/learn/python/learn/monitors.py:653: calling BaseEstimator.evaluate (from tensorflow.contrib.learn.python.learn.estimators.estimator) with y is deprecated and will be removed after 2016-12-01.\n",
      "Instructions for updating:\n",
      "Estimator is decoupled from Scikit Learn interface by moving into\n",
      "separate class SKCompat. Arguments x, y and batch_size are only\n",
      "available in the SKCompat class, Estimator will only accept input_fn.\n",
      "Example conversion:\n",
      "  est = Estimator(...) -> est = SKCompat(Estimator(...))\n",
      "WARNING:tensorflow:From /home/chaunh2/.local/lib/python3.5/site-packages/tensorflow/contrib/learn/python/learn/monitors.py:653: calling BaseEstimator.evaluate (from tensorflow.contrib.learn.python.learn.estimators.estimator) with x is deprecated and will be removed after 2016-12-01.\n",
      "Instructions for updating:\n",
      "Estimator is decoupled from Scikit Learn interface by moving into\n",
      "separate class SKCompat. Arguments x, y and batch_size are only\n",
      "available in the SKCompat class, Estimator will only accept input_fn.\n",
      "Example conversion:\n",
      "  est = Estimator(...) -> est = SKCompat(Estimator(...))\n",
      "WARNING:tensorflow:From /home/chaunh2/.local/lib/python3.5/site-packages/tensorflow/contrib/learn/python/learn/estimators/head.py:625: scalar_summary (from tensorflow.python.ops.logging_ops) is deprecated and will be removed after 2016-11-30.\n",
      "Instructions for updating:\n",
      "Please switch to tf.summary.scalar. Note that tf.summary.scalar uses the node name instead of the tag. This means that TensorFlow will automatically de-duplicate summary names based on the scope they are created in. Also, passing a tensor or list of tags to a scalar summary op is no longer supported.\n",
      "INFO:tensorflow:Starting evaluation at 2017-06-23-03:57:06\n",
      "INFO:tensorflow:Restoring parameters from /tmp/iris_model/model.ckpt-1164\n"
     ]
    },
    {
     "name": "stdout",
     "output_type": "stream",
     "text": [
      "INFO:tensorflow:Finished evaluation at 2017-06-23-03:57:06\n",
      "INFO:tensorflow:Saving dict for global step 1164: accuracy = 0.966667, global_step = 1164, loss = 0.0518424, precision = 1.0, recall = 1.0\n",
      "INFO:tensorflow:Validation (step 1200): global_step = 1164, precision = 1.0, loss = 0.0518424, recall = 1.0, accuracy = 0.966667\n",
      "INFO:tensorflow:global_step/sec: 226.384\n",
      "INFO:tensorflow:step = 1201, loss = 0.0492553 (0.442 sec)\n",
      "INFO:tensorflow:global_step/sec: 985.092\n",
      "INFO:tensorflow:step = 1301, loss = 0.0482659 (0.102 sec)\n",
      "INFO:tensorflow:global_step/sec: 1006.7\n",
      "INFO:tensorflow:step = 1401, loss = 0.0474142 (0.100 sec)\n",
      "INFO:tensorflow:global_step/sec: 968.393\n",
      "INFO:tensorflow:step = 1501, loss = 0.0465613 (0.103 sec)\n",
      "INFO:tensorflow:global_step/sec: 958.288\n",
      "INFO:tensorflow:step = 1601, loss = 0.0458181 (0.104 sec)\n",
      "INFO:tensorflow:global_step/sec: 993.043\n",
      "INFO:tensorflow:step = 1701, loss = 0.045049 (0.101 sec)\n",
      "INFO:tensorflow:global_step/sec: 973.043\n",
      "INFO:tensorflow:step = 1801, loss = 0.0443699 (0.103 sec)\n",
      "INFO:tensorflow:Saving checkpoints for 1813 into /tmp/iris_model/model.ckpt.\n",
      "WARNING:tensorflow:From /home/chaunh2/.local/lib/python3.5/site-packages/tensorflow/contrib/learn/python/learn/monitors.py:653: calling BaseEstimator.evaluate (from tensorflow.contrib.learn.python.learn.estimators.estimator) with y is deprecated and will be removed after 2016-12-01.\n",
      "Instructions for updating:\n",
      "Estimator is decoupled from Scikit Learn interface by moving into\n",
      "separate class SKCompat. Arguments x, y and batch_size are only\n",
      "available in the SKCompat class, Estimator will only accept input_fn.\n",
      "Example conversion:\n",
      "  est = Estimator(...) -> est = SKCompat(Estimator(...))\n",
      "WARNING:tensorflow:From /home/chaunh2/.local/lib/python3.5/site-packages/tensorflow/contrib/learn/python/learn/monitors.py:653: calling BaseEstimator.evaluate (from tensorflow.contrib.learn.python.learn.estimators.estimator) with x is deprecated and will be removed after 2016-12-01.\n",
      "Instructions for updating:\n",
      "Estimator is decoupled from Scikit Learn interface by moving into\n",
      "separate class SKCompat. Arguments x, y and batch_size are only\n",
      "available in the SKCompat class, Estimator will only accept input_fn.\n",
      "Example conversion:\n",
      "  est = Estimator(...) -> est = SKCompat(Estimator(...))\n",
      "WARNING:tensorflow:From /home/chaunh2/.local/lib/python3.5/site-packages/tensorflow/contrib/learn/python/learn/estimators/head.py:625: scalar_summary (from tensorflow.python.ops.logging_ops) is deprecated and will be removed after 2016-11-30.\n",
      "Instructions for updating:\n",
      "Please switch to tf.summary.scalar. Note that tf.summary.scalar uses the node name instead of the tag. This means that TensorFlow will automatically de-duplicate summary names based on the scope they are created in. Also, passing a tensor or list of tags to a scalar summary op is no longer supported.\n",
      "INFO:tensorflow:Starting evaluation at 2017-06-23-03:57:07\n",
      "INFO:tensorflow:Restoring parameters from /tmp/iris_model/model.ckpt-1813\n",
      "INFO:tensorflow:Finished evaluation at 2017-06-23-03:57:07\n",
      "INFO:tensorflow:Saving dict for global step 1813: accuracy = 0.966667, global_step = 1813, loss = 0.0637427, precision = 1.0, recall = 1.0\n",
      "INFO:tensorflow:Validation (step 1850): global_step = 1813, precision = 1.0, loss = 0.0637427, recall = 1.0, accuracy = 0.966667\n",
      "INFO:tensorflow:Stopping. Best step: 1200 with loss = 0.05184242129325867.\n",
      "INFO:tensorflow:Saving checkpoints for 1850 into /tmp/iris_model/model.ckpt.\n",
      "INFO:tensorflow:Loss for final step: 0.0439886.\n"
     ]
    },
    {
     "data": {
      "text/plain": [
       "DNNClassifier(params={'embedding_lr_multipliers': None, 'hidden_units': [10, 20, 10], 'input_layer_min_slice_size': None, 'head': <tensorflow.contrib.learn.python.learn.estimators.head._MultiClassHead object at 0x7efce4bd6668>, 'dropout': None, 'optimizer': None, 'feature_columns': (_RealValuedColumn(column_name='', dimension=4, default_value=None, dtype=tf.float32, normalizer=None),), 'gradient_clip_norm': None, 'activation_fn': <function relu at 0x7efca7aa2950>})"
      ]
     },
     "execution_count": 45,
     "metadata": {},
     "output_type": "execute_result"
    }
   ],
   "source": [
    "classifier.fit(input_fn=get_train_inputs,steps=2000,monitors=[validation_monitor])\n",
    "# Fit model.\n",
    "#classifier.fit(input_fn=get_train_inputs, steps=2000)"
   ]
  },
  {
   "cell_type": "code",
   "execution_count": 10,
   "metadata": {
    "collapsed": true
   },
   "outputs": [],
   "source": [
    "# Define the test inputs\n",
    "def get_test_inputs():\n",
    "    x = tf.constant(test_set.data)\n",
    "    y = tf.constant(test_set.target)\n",
    "    return x, y\n"
   ]
  },
  {
   "cell_type": "code",
   "execution_count": 11,
   "metadata": {},
   "outputs": [
    {
     "name": "stdout",
     "output_type": "stream",
     "text": [
      "\n",
      "Test Accuracy: 0.966667\n",
      "\n"
     ]
    }
   ],
   "source": [
    "# Evaluate accuracy.\n",
    "accuracy_score = classifier.evaluate(input_fn=get_test_inputs,\n",
    "                                     steps=1)[\"accuracy\"]\n",
    "\n",
    "print(\"\\nTest Accuracy: {0:f}\\n\".format(accuracy_score))"
   ]
  },
  {
   "cell_type": "code",
   "execution_count": 12,
   "metadata": {},
   "outputs": [
    {
     "name": "stdout",
     "output_type": "stream",
     "text": [
      "New Samples, Class Predictions:    [1, 2]\n",
      "\n"
     ]
    }
   ],
   "source": [
    "# Classify two new flower samples.\n",
    "def new_samples():\n",
    "  return np.array(\n",
    "    [[6.4, 3.2, 4.5, 1.5],\n",
    "     [5.8, 3.1, 5.0, 1.7]], dtype=np.float32)\n",
    "\n",
    "predictions = list(classifier.predict(input_fn=new_samples))\n",
    "\n",
    "print(\n",
    "    \"New Samples, Class Predictions:    {}\\n\"\n",
    "    .format(predictions))"
   ]
  },
  {
   "cell_type": "code",
   "execution_count": null,
   "metadata": {
    "collapsed": true
   },
   "outputs": [],
   "source": []
  },
  {
   "cell_type": "code",
   "execution_count": null,
   "metadata": {
    "collapsed": true
   },
   "outputs": [],
   "source": []
  }
 ],
 "metadata": {
  "kernelspec": {
   "display_name": "Python 3",
   "language": "python",
   "name": "python3"
  },
  "language_info": {
   "codemirror_mode": {
    "name": "ipython",
    "version": 3
   },
   "file_extension": ".py",
   "mimetype": "text/x-python",
   "name": "python",
   "nbconvert_exporter": "python",
   "pygments_lexer": "ipython3",
   "version": "3.5.2"
  }
 },
 "nbformat": 4,
 "nbformat_minor": 2
}
