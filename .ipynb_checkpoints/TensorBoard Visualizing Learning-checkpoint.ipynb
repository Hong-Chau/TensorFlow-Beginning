{
 "cells": [
  {
   "cell_type": "code",
   "execution_count": 3,
   "metadata": {},
   "outputs": [
    {
     "data": {
      "text/plain": [
       "'/home/chaunh2/workspace/Tensorflow/TensorFlow-Beginning'"
      ]
     },
     "execution_count": 3,
     "metadata": {},
     "output_type": "execute_result"
    }
   ],
   "source": [
    "%pwd"
   ]
  },
  {
   "cell_type": "code",
   "execution_count": 4,
   "metadata": {},
   "outputs": [
    {
     "name": "stdout",
     "output_type": "stream",
     "text": [
      "Deep MNIST for Experts.ipynb          \u001b[0m\u001b[01;34mMNIST_data\u001b[0m/\r\n",
      "iris_test.csv                         mnist_with_summaries.py\r\n",
      "iris_training.csv                     Quickstart tf.contrib.learn.ipynb\r\n",
      "libsdae-autoencoder-tensorflow.ipynb  README.md\r\n",
      "Logging and Monitoring Basics.ipynb   TensorBoard Visualizing Learning.ipynb\r\n"
     ]
    }
   ],
   "source": [
    "%ls"
   ]
  },
  {
   "cell_type": "code",
   "execution_count": 1,
   "metadata": {},
   "outputs": [
    {
     "name": "stdout",
     "output_type": "stream",
     "text": [
      "Extracting /tmp/tensorflow/mnist/input_data/train-images-idx3-ubyte.gz\n",
      "Extracting /tmp/tensorflow/mnist/input_data/train-labels-idx1-ubyte.gz\n",
      "Extracting /tmp/tensorflow/mnist/input_data/t10k-images-idx3-ubyte.gz\n",
      "Extracting /tmp/tensorflow/mnist/input_data/t10k-labels-idx1-ubyte.gz\n",
      "Accuracy at step 0: 0.0948\n",
      "Accuracy at step 10: 0.6784\n",
      "Accuracy at step 20: 0.8049\n",
      "Accuracy at step 30: 0.858\n",
      "Accuracy at step 40: 0.8754\n",
      "Accuracy at step 50: 0.8967\n",
      "Accuracy at step 60: 0.902\n",
      "Accuracy at step 70: 0.8956\n",
      "Accuracy at step 80: 0.9078\n",
      "Accuracy at step 90: 0.9143\n",
      "Adding run metadata for 99\n",
      "Accuracy at step 100: 0.9177\n",
      "Accuracy at step 110: 0.916\n",
      "Accuracy at step 120: 0.9179\n",
      "Accuracy at step 130: 0.9195\n",
      "Accuracy at step 140: 0.9189\n",
      "Accuracy at step 150: 0.9253\n",
      "Accuracy at step 160: 0.9254\n",
      "Accuracy at step 170: 0.9318\n",
      "Accuracy at step 180: 0.9317\n",
      "Accuracy at step 190: 0.9297\n",
      "Adding run metadata for 199\n",
      "Accuracy at step 200: 0.9305\n",
      "Accuracy at step 210: 0.9333\n",
      "Accuracy at step 220: 0.9373\n",
      "Accuracy at step 230: 0.9364\n",
      "Accuracy at step 240: 0.9396\n",
      "Accuracy at step 250: 0.9386\n",
      "Accuracy at step 260: 0.9408\n",
      "Accuracy at step 270: 0.9391\n",
      "Accuracy at step 280: 0.9417\n",
      "Accuracy at step 290: 0.9432\n",
      "Adding run metadata for 299\n",
      "Accuracy at step 300: 0.945\n",
      "Accuracy at step 310: 0.9443\n",
      "Accuracy at step 320: 0.9459\n",
      "Accuracy at step 330: 0.9451\n",
      "Accuracy at step 340: 0.938\n",
      "Accuracy at step 350: 0.9431\n",
      "Accuracy at step 360: 0.9498\n",
      "Accuracy at step 370: 0.9511\n",
      "Accuracy at step 380: 0.9507\n",
      "Accuracy at step 390: 0.9513\n",
      "Adding run metadata for 399\n",
      "Accuracy at step 400: 0.9524\n",
      "Accuracy at step 410: 0.9547\n",
      "Accuracy at step 420: 0.948\n",
      "Accuracy at step 430: 0.9514\n",
      "Accuracy at step 440: 0.9548\n",
      "Accuracy at step 450: 0.9546\n",
      "Accuracy at step 460: 0.9563\n",
      "Accuracy at step 470: 0.9533\n",
      "Accuracy at step 480: 0.9535\n",
      "Accuracy at step 490: 0.9553\n",
      "Adding run metadata for 499\n",
      "Accuracy at step 500: 0.9588\n",
      "Accuracy at step 510: 0.9559\n",
      "Accuracy at step 520: 0.9557\n",
      "Accuracy at step 530: 0.9567\n",
      "Accuracy at step 540: 0.9584\n",
      "Accuracy at step 550: 0.9587\n",
      "Accuracy at step 560: 0.958\n",
      "Accuracy at step 570: 0.958\n",
      "Accuracy at step 580: 0.9592\n",
      "Accuracy at step 590: 0.9613\n",
      "Adding run metadata for 599\n",
      "Accuracy at step 600: 0.9588\n",
      "Accuracy at step 610: 0.957\n",
      "Accuracy at step 620: 0.9617\n",
      "Accuracy at step 630: 0.958\n",
      "Accuracy at step 640: 0.9583\n",
      "Accuracy at step 650: 0.9592\n",
      "Accuracy at step 660: 0.9597\n",
      "Accuracy at step 670: 0.9606\n",
      "Accuracy at step 680: 0.9602\n",
      "Accuracy at step 690: 0.9608\n",
      "Adding run metadata for 699\n",
      "Accuracy at step 700: 0.9626\n",
      "Accuracy at step 710: 0.9621\n",
      "Accuracy at step 720: 0.9635\n",
      "Accuracy at step 730: 0.9632\n",
      "Accuracy at step 740: 0.9635\n",
      "Accuracy at step 750: 0.9648\n",
      "Accuracy at step 760: 0.9661\n",
      "Accuracy at step 770: 0.964\n",
      "Accuracy at step 780: 0.9665\n",
      "Accuracy at step 790: 0.9645\n",
      "Adding run metadata for 799\n",
      "Accuracy at step 800: 0.9653\n",
      "Accuracy at step 810: 0.9658\n",
      "Accuracy at step 820: 0.9652\n",
      "Accuracy at step 830: 0.9627\n",
      "Accuracy at step 840: 0.9635\n",
      "Accuracy at step 850: 0.9648\n",
      "Accuracy at step 860: 0.9659\n",
      "Accuracy at step 870: 0.9661\n",
      "Accuracy at step 880: 0.9655\n",
      "Accuracy at step 890: 0.9646\n",
      "Adding run metadata for 899\n",
      "Accuracy at step 900: 0.967\n",
      "Accuracy at step 910: 0.9668\n",
      "Accuracy at step 920: 0.967\n",
      "Accuracy at step 930: 0.967\n",
      "Accuracy at step 940: 0.9672\n",
      "Accuracy at step 950: 0.9673\n",
      "Accuracy at step 960: 0.9672\n",
      "Accuracy at step 970: 0.9658\n",
      "Accuracy at step 980: 0.967\n",
      "Accuracy at step 990: 0.9695\n",
      "Adding run metadata for 999\n"
     ]
    }
   ],
   "source": [
    "import tensorflow as tf\n",
    "%run mnist_with_summaries.py"
   ]
  },
  {
   "cell_type": "code",
   "execution_count": 5,
   "metadata": {},
   "outputs": [],
   "source": [
    "#grep -rnw mnist_with_summaries.py -e 'variable_summaries'"
   ]
  },
  {
   "cell_type": "code",
   "execution_count": null,
   "metadata": {
    "collapsed": true
   },
   "outputs": [],
   "source": [
    "#tensorboard --logdir=/tmp/tensorflow/mnist/logs/mnist_with_summaries"
   ]
  }
 ],
 "metadata": {
  "kernelspec": {
   "display_name": "Python 3",
   "language": "python",
   "name": "python3"
  },
  "language_info": {
   "codemirror_mode": {
    "name": "ipython",
    "version": 3
   },
   "file_extension": ".py",
   "mimetype": "text/x-python",
   "name": "python",
   "nbconvert_exporter": "python",
   "pygments_lexer": "ipython3",
   "version": "3.5.2"
  }
 },
 "nbformat": 4,
 "nbformat_minor": 2
}
